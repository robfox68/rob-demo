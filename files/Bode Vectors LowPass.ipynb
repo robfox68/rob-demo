{
  "metadata": {
    "language_info": {
      "codemirror_mode": {
        "name": "python",
        "version": 3
      },
      "file_extension": ".py",
      "mimetype": "text/x-python",
      "name": "python",
      "nbconvert_exporter": "python",
      "pygments_lexer": "ipython3",
      "version": "3.8"
    },
    "kernelspec": {
      "name": "python",
      "display_name": "Pyolite",
      "language": "python"
    }
  },
  "nbformat_minor": 4,
  "nbformat": 4,
  "cells": [
    {
      "cell_type": "code",
      "source": "import micropip\n\nawait micropip.install('ipywidgets')",
      "metadata": {
        "tags": [],
        "jupyter": {
          "source_hidden": true
        },
        "trusted": true
      },
      "execution_count": 7,
      "outputs": []
    },
    {
      "cell_type": "code",
      "source": "await micropip.install('ipympl')\n",
      "metadata": {
        "tags": [],
        "trusted": true
      },
      "execution_count": 8,
      "outputs": []
    },
    {
      "cell_type": "code",
      "source": "from IPython.display import display\nimport ipywidgets as widgets\nimport matplotlib.pyplot as plt\nimport numpy as np\nimport matplotlib.gridspec as gridspec",
      "metadata": {
        "trusted": true
      },
      "execution_count": 9,
      "outputs": []
    },
    {
      "cell_type": "code",
      "source": "%matplotlib ipympl",
      "metadata": {
        "trusted": true
      },
      "execution_count": 10,
      "outputs": []
    },
    {
      "cell_type": "code",
      "source": "w = np.logspace(-2, 2, 200)\nth = np.arange(0, np.pi, 0.02)\ncx=np.cos(th)\ncy1=np.sin(th)\ncy2=-cy1",
      "metadata": {
        "tags": [],
        "trusted": true
      },
      "execution_count": 11,
      "outputs": []
    },
    {
      "cell_type": "code",
      "source": "plt.ioff()\n\nfig = plt.figure(figsize=(12.4, 5.1), constrained_layout=True)\nspec = fig.add_gridspec(ncols=2, nrows=2)\nax0 = fig.add_subplot(spec[:, 0])\nax2 = fig.add_subplot(spec[0, 1])\nax3 = fig.add_subplot(spec[1, 1])\n\nplt.suptitle('Second-Order Low-Pass')\n\ndef update_plot(yw):\n    \n    ax0.clear()  #pole locations plot\n    ax2.clear()  #magnitude plot #Skip this statement to stack plots with different Q's. Rerun the cell to refresh.\n    ax3.clear()  #phase plot     #Skip this statement to stack plots with different Q's. Rerun the cell to refresh.\n    Q=1.8\n    re = 1 - w*w\n    im = w/Q\n    phase = -np.arctan2(im,re)*180/np.pi\n    mag = 1/np.sqrt(im*im + re*re)\n    \n    reyw = 1 - yw*yw\n    imyw = yw/Q\n    phaseyw = -np.arctan2(imyw,reyw)*180/np.pi\n    magyw = 1/np.sqrt(imyw*imyw + reyw*reyw)\n    \n    if Q < 0.5:\n        x1 = -1/(2*Q) + np.sqrt(1/4/Q/Q -1); y1 = 0\n        x2 = -1/(2*Q) - np.sqrt(1/4/Q/Q -1); y2 = 0  \n        \n    elif Q > 0.5:\n        x1 = -1/(2*Q);  y1 = + np.sqrt(1-1/4/Q/Q); \n        x2 = x1;  y2 = -y1;\n          \n    #pole locations\n    ax0.plot(x1,y1,marker = 'x',color='r')   #pole 1 location\n    ax0.plot(x2,y2,marker = 'x',color='r')   #pole 2 location \n    #Circle with radius one:\n    ax0.plot(cx,cy1,'b',linewidth=0.5)\n    ax0.plot(cx,cy2,'b',linewidth=0.5)\n    ax0.arrow(0, yw, x1, y1 - yw,length_includes_head = True)\n    ax0.arrow(0, yw, x2, y2 - yw,length_includes_head = True)\n    ax0.axvline(0,linewidth=0.7, color='grey')\n    ax0.axhline(0,linewidth=0.7, color='grey')\n    ax0.set_xlim(-4.7,+1)\n    ax0.set_ylim(-2.2,+2.2)\n    ax0.plot\n    #ax0.grid(True)\n    \n    #Step response\n    #ax1.plot(t, y)\n    #ax1.set_xlabel('Time (s)')\n    #ax1.grid(True)\n                  \n    #Magnitude plot   \n    ax2.loglog(w,mag)\n    ax2.set_ylabel('Magnitude')\n    ax2.loglog(yw,magyw,'bo')\n    ax2.grid(True)\n    \n    #Phase plot\n    ax3.semilogx(w, phase)\n    ax3.semilogx(yw,phaseyw,'bo')\n    ax3.set_ylim(-200, 0)            \n    ax3.set_yticks([-180,-135,-90,-45,0])\n    ax3.set_yticklabels(['-180','-135','-90','-45','0' ])\n    ax3.set_xlabel('Frequency (r/s)')\n    ax3.set_ylabel('Phase (degrees)')\n    ax3.grid(True)\n    \n    fig.canvas.toolbar_visible=False   \n    fig.show()\n\n#Get frequency for vector plot\nyw = widgets.FloatLogSlider(\n   value=1.0,\n   base=10,\n   min=-1.2, # max exponent of base\n   max=+0.6, # min exponent of base\n   step=0.2, # exponent step\n   description='yw')\n\nwidgets.interactive(update_plot, yw = yw)",
      "metadata": {
        "tags": [],
        "trusted": true
      },
      "execution_count": 13,
      "outputs": [
        {
          "output_type": "display_data",
          "data": {
            "text/plain": "interactive(children=(FloatLogSlider(value=1.0, description='yw', max=0.6, min=-1.2, step=0.2), Output()), _do…",
            "application/vnd.jupyter.widget-view+json": {
              "version_major": 2,
              "version_minor": 0,
              "model_id": "5c4468d33b874f19b11744f1d6e857e2"
            }
          },
          "metadata": {}
        },
        {
          "execution_count": 13,
          "output_type": "execute_result",
          "data": {},
          "metadata": {}
        }
      ]
    },
    {
      "cell_type": "code",
      "source": "",
      "metadata": {},
      "execution_count": null,
      "outputs": []
    },
    {
      "cell_type": "code",
      "source": "",
      "metadata": {},
      "execution_count": null,
      "outputs": []
    }
  ]
}