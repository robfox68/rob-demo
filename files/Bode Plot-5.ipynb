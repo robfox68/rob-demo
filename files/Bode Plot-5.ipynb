{
  "metadata": {
    "language_info": {
      "codemirror_mode": {
        "name": "python",
        "version": 3
      },
      "file_extension": ".py",
      "mimetype": "text/x-python",
      "name": "python",
      "nbconvert_exporter": "python",
      "pygments_lexer": "ipython3",
      "version": "3.8"
    },
    "kernelspec": {
      "name": "python",
      "display_name": "Pyolite",
      "language": "python"
    }
  },
  "nbformat_minor": 4,
  "nbformat": 4,
  "cells": [
    {
      "cell_type": "code",
      "source": "import micropip\n\nawait micropip.install('ipywidgets')",
      "metadata": {
        "jupyter": {
          "source_hidden": true
        },
        "tags": [],
        "trusted": true
      },
      "execution_count": 42,
      "outputs": []
    },
    {
      "cell_type": "code",
      "source": "await micropip.install('ipympl')\n",
      "metadata": {
        "jupyter": {
          "source_hidden": true
        },
        "tags": [],
        "trusted": true
      },
      "execution_count": 43,
      "outputs": []
    },
    {
      "cell_type": "code",
      "source": "from IPython.display import display\nimport ipywidgets as widgets\nimport matplotlib.pyplot as plt\nimport numpy as np",
      "metadata": {
        "trusted": true
      },
      "execution_count": 44,
      "outputs": []
    },
    {
      "cell_type": "code",
      "source": "%matplotlib ipympl",
      "metadata": {
        "trusted": true
      },
      "execution_count": 45,
      "outputs": []
    },
    {
      "cell_type": "code",
      "source": "w = np.logspace(-2, 2, 400)",
      "metadata": {
        "trusted": true
      },
      "execution_count": 54,
      "outputs": []
    },
    {
      "cell_type": "code",
      "source": "plt.ioff()\n#fig, ax = plt.subplots(1, figsize=(10, 4))\nfig, ax = plt.subplots(2, 1, sharex=False, figsize=(8, 7))\nplt.suptitle('Second-Order Low-Pass')\n\ndef update_plot(Q):\n    \n    ax[0].clear()\n    ax[1].clear()\n    re = 1 - w**2\n    im = w/Q\n    phase = -np.arctan2(im,re)*180/np.pi\n    mag = 1/np.sqrt(im*im + re*re)\n    \n    ax[0].semilogx(w, phase,label = Q)\n    ax[0].set_ylim(-200, 0)\n    #ax[0].yticks([-180,-135,-90,-45,0],['-180','-135','-90','-45','0' ]\n    ax[0].set_xlabel('Frequency (r/s)')\n    ax[0].set_ylabel('Phase (degrees)')\n    ax[0].grid(True)\n    \n \n    ax[1].loglog(w,mag,label = Q)\n    ax[1].set_xlabel('Frequency (r/s)')\n    ax[1].set_ylabel('Magnitude')\n    ax[1].grid(True)\n    \n    \n    fig.show()\n\n\n#Q = widgets.FloatSlider(min=0.1, max=10, value=1, description='Q')\n#amp = widgets.FloatSlider(min=1, max=10, value=5, description='Amp:')\n#phase = widgets.FloatSlider(min=0, max=5, value=0, description='Phase:')\n#freq = widgets.FloatSlider(min=1, max=10, value=1, description='Freq:')\n\nQ = widgets.FloatLogSlider(\n   value=1,\n   base=10,\n   min=-1.5, # max exponent of base\n   max=+1.0, # min exponent of base\n   step=0.125, # exponent step\n   description='Q'\n)\n    \nwidgets.interactive(update_plot, Q = Q)",
      "metadata": {
        "trusted": true
      },
      "execution_count": 56,
      "outputs": [
        {
          "output_type": "display_data",
          "data": {
            "text/plain": "interactive(children=(FloatLogSlider(value=1.0, description='Q', max=1.0, min=-1.5, step=0.125), Output()), _d…",
            "application/vnd.jupyter.widget-view+json": {
              "version_major": 2,
              "version_minor": 0,
              "model_id": "d2cad94925234308a3536c63d0ee84ef"
            }
          },
          "metadata": {}
        },
        {
          "execution_count": 56,
          "output_type": "execute_result",
          "data": {},
          "metadata": {}
        }
      ]
    },
    {
      "cell_type": "code",
      "source": "",
      "metadata": {},
      "execution_count": null,
      "outputs": []
    },
    {
      "cell_type": "code",
      "source": "",
      "metadata": {},
      "execution_count": null,
      "outputs": []
    }
  ]
}