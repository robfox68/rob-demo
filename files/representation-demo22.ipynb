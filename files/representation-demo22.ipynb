{
  "metadata": {
    "kernelspec": {
      "name": "python",
      "display_name": "Pyolite",
      "language": "python"
    },
    "language_info": {
      "codemirror_mode": {
        "name": "python",
        "version": 3
      },
      "file_extension": ".py",
      "mimetype": "text/x-python",
      "name": "python",
      "nbconvert_exporter": "python",
      "pygments_lexer": "ipython3",
      "version": "3.8"
    }
  },
  "nbformat_minor": 5,
  "nbformat": 4,
  "cells": [
    {
      "cell_type": "markdown",
      "source": "## Representing signal using orthonormal signals\n\nIn this assignment, we will generate orthonormal vectors using the rows of a Hadamard matrix. Read the Wikipedia page https://en.wikipedia.org/wiki/Hadamard_matrix to find out more about these matrices. \n\nWe will then use the orthonormal vectors to approximate different functions. \n\nWe start by loading some libraries that we will need. Since this is all running your browser it might take many seconds to load the numpy library. Also, you will need an active internet connection to install the IPyWidgets library.\n\nUse shift-Enter or the play button above (a rightward facing triangle) to execute each line of code and move to the next line.",
      "metadata": {},
      "id": "57a463df-c0da-4e35-9031-c89108ee7b3f"
    },
    {
      "cell_type": "code",
      "source": "a = 2\na",
      "metadata": {
        "trusted": true
      },
      "execution_count": 1,
      "outputs": [
        {
          "execution_count": 1,
          "output_type": "execute_result",
          "data": {
            "text/plain": "2"
          },
          "metadata": {}
        }
      ],
      "id": "2fe6c3de-8f42-428b-84cc-b0de9c77298a"
    },
    {
      "cell_type": "code",
      "source": "import numpy as np\n\n# I often avoid importing functions into our global namespace, but I hope that this will be \n# faster in JupyterLite than importing the whole library:\nfrom scipy.linalg import hadamard",
      "metadata": {
        "trusted": true
      },
      "execution_count": 2,
      "outputs": [],
      "id": "e3119b4b-1a15-4d4d-a617-f8e8f18e1b7a"
    },
    {
      "cell_type": "code",
      "source": "import matplotlib.pyplot as plt\n%matplotlib inline",
      "metadata": {
        "trusted": true
      },
      "execution_count": 3,
      "outputs": [],
      "id": "e99b7615-5d42-4575-afcc-0388f1c3522a"
    },
    {
      "cell_type": "code",
      "source": "",
      "metadata": {},
      "execution_count": null,
      "outputs": [],
      "id": "bd564b8a-6d32-448d-9e93-35077336f408"
    },
    {
      "cell_type": "code",
      "source": "import micropip\n\nawait micropip.install('ipywidgets')",
      "metadata": {
        "trusted": true
      },
      "execution_count": 4,
      "outputs": [],
      "id": "b5c90d57-d411-4466-84b6-abd7fac7778d"
    },
    {
      "cell_type": "code",
      "source": "from ipywidgets import interact\nimport ipywidgets as widgets\n",
      "metadata": {
        "trusted": true
      },
      "execution_count": 5,
      "outputs": [],
      "id": "eed05918-a3c7-4dda-ac74-65a2baca1040"
    },
    {
      "cell_type": "markdown",
      "source": "Choose a reasonably small power of 2. We need a power of 2 because we will represent a function (here, implemented as a vector of the function values on an interval) using the normalized rows of a Hadamard matrix as the orthonormal functions ",
      "metadata": {},
      "id": "d202cbcc-ea5a-4d34-89d8-3164d3a37ce5"
    },
    {
      "cell_type": "code",
      "source": "N=16",
      "metadata": {
        "trusted": true
      },
      "execution_count": 6,
      "outputs": [],
      "id": "36d8c145-9e94-4ded-adaf-e4e7ee5bc802"
    },
    {
      "cell_type": "markdown",
      "source": "Generate a function, g, that is a sinusoid with N samples in about a 1 s interval:",
      "metadata": {},
      "id": "7b668542-d8f8-448f-8573-81008aad0859"
    },
    {
      "cell_type": "code",
      "source": "t=np.linspace(1/N,1, N)\ng=np.sin(2*np.pi*t)\nplt.plot(t, g)",
      "metadata": {
        "trusted": true
      },
      "execution_count": 7,
      "outputs": [
        {
          "execution_count": 7,
          "output_type": "execute_result",
          "data": {
            "text/plain": "[<matplotlib.lines.Line2D at 0x38ec088>]"
          },
          "metadata": {}
        },
        {
          "output_type": "display_data",
          "data": {
            "text/plain": "<Figure size 432x288 with 1 Axes>",
            "image/png": "[encoded data removed]"
          },
          "metadata": {
            "needs_background": "light"
          }
        }
      ],
      "id": "23125517-245f-4064-ac35-1290708b9826"
    },
    {
      "cell_type": "markdown",
      "source": "Now generate a Hadamard matrix  and print it out. ",
      "metadata": {},
      "id": "32868587-07ba-4e53-8276-2509277f224b"
    },
    {
      "cell_type": "code",
      "source": "print(hadamard(N))",
      "metadata": {
        "trusted": true
      },
      "execution_count": 8,
      "outputs": [
        {
          "name": "stdout",
          "text": "[[ 1  1  1  1  1  1  1  1  1  1  1  1  1  1  1  1]\n [ 1 -1  1 -1  1 -1  1 -1  1 -1  1 -1  1 -1  1 -1]\n [ 1  1 -1 -1  1  1 -1 -1  1  1 -1 -1  1  1 -1 -1]\n [ 1 -1 -1  1  1 -1 -1  1  1 -1 -1  1  1 -1 -1  1]\n [ 1  1  1  1 -1 -1 -1 -1  1  1  1  1 -1 -1 -1 -1]\n [ 1 -1  1 -1 -1  1 -1  1  1 -1  1 -1 -1  1 -1  1]\n [ 1  1 -1 -1 -1 -1  1  1  1  1 -1 -1 -1 -1  1  1]\n [ 1 -1 -1  1 -1  1  1 -1  1 -1 -1  1 -1  1  1 -1]\n [ 1  1  1  1  1  1  1  1 -1 -1 -1 -1 -1 -1 -1 -1]\n [ 1 -1  1 -1  1 -1  1 -1 -1  1 -1  1 -1  1 -1  1]\n [ 1  1 -1 -1  1  1 -1 -1 -1 -1  1  1 -1 -1  1  1]\n [ 1 -1 -1  1  1 -1 -1  1 -1  1  1 -1 -1  1  1 -1]\n [ 1  1  1  1 -1 -1 -1 -1 -1 -1 -1 -1  1  1  1  1]\n [ 1 -1  1 -1 -1  1 -1  1 -1  1 -1  1  1 -1  1 -1]\n [ 1  1 -1 -1 -1 -1  1  1 -1 -1  1  1  1  1 -1 -1]\n [ 1 -1 -1  1 -1  1  1 -1 -1  1  1 -1  1 -1 -1  1]]\n",
          "output_type": "stream"
        }
      ],
      "id": "e4ad33a8-5dd3-4971-835a-b19a9f5f671a"
    },
    {
      "cell_type": "markdown",
      "source": "We need the rows to have norm 1, so we can do a simple normalization.",
      "metadata": {},
      "id": "0a93c974-6fa9-4adb-83f3-06c84860855b"
    },
    {
      "cell_type": "code",
      "source": "H=1/np.sqrt(N)*hadamard(N)[:]\nprint(H)",
      "metadata": {
        "trusted": true
      },
      "execution_count": 9,
      "outputs": [
        {
          "name": "stdout",
          "text": "[[ 0.25  0.25  0.25  0.25  0.25  0.25  0.25  0.25  0.25  0.25  0.25  0.25\n   0.25  0.25  0.25  0.25]\n [ 0.25 -0.25  0.25 -0.25  0.25 -0.25  0.25 -0.25  0.25 -0.25  0.25 -0.25\n   0.25 -0.25  0.25 -0.25]\n [ 0.25  0.25 -0.25 -0.25  0.25  0.25 -0.25 -0.25  0.25  0.25 -0.25 -0.25\n   0.25  0.25 -0.25 -0.25]\n [ 0.25 -0.25 -0.25  0.25  0.25 -0.25 -0.25  0.25  0.25 -0.25 -0.25  0.25\n   0.25 -0.25 -0.25  0.25]\n [ 0.25  0.25  0.25  0.25 -0.25 -0.25 -0.25 -0.25  0.25  0.25  0.25  0.25\n  -0.25 -0.25 -0.25 -0.25]\n [ 0.25 -0.25  0.25 -0.25 -0.25  0.25 -0.25  0.25  0.25 -0.25  0.25 -0.25\n  -0.25  0.25 -0.25  0.25]\n [ 0.25  0.25 -0.25 -0.25 -0.25 -0.25  0.25  0.25  0.25  0.25 -0.25 -0.25\n  -0.25 -0.25  0.25  0.25]\n [ 0.25 -0.25 -0.25  0.25 -0.25  0.25  0.25 -0.25  0.25 -0.25 -0.25  0.25\n  -0.25  0.25  0.25 -0.25]\n [ 0.25  0.25  0.25  0.25  0.25  0.25  0.25  0.25 -0.25 -0.25 -0.25 -0.25\n  -0.25 -0.25 -0.25 -0.25]\n [ 0.25 -0.25  0.25 -0.25  0.25 -0.25  0.25 -0.25 -0.25  0.25 -0.25  0.25\n  -0.25  0.25 -0.25  0.25]\n [ 0.25  0.25 -0.25 -0.25  0.25  0.25 -0.25 -0.25 -0.25 -0.25  0.25  0.25\n  -0.25 -0.25  0.25  0.25]\n [ 0.25 -0.25 -0.25  0.25  0.25 -0.25 -0.25  0.25 -0.25  0.25  0.25 -0.25\n  -0.25  0.25  0.25 -0.25]\n [ 0.25  0.25  0.25  0.25 -0.25 -0.25 -0.25 -0.25 -0.25 -0.25 -0.25 -0.25\n   0.25  0.25  0.25  0.25]\n [ 0.25 -0.25  0.25 -0.25 -0.25  0.25 -0.25  0.25 -0.25  0.25 -0.25  0.25\n   0.25 -0.25  0.25 -0.25]\n [ 0.25  0.25 -0.25 -0.25 -0.25 -0.25  0.25  0.25 -0.25 -0.25  0.25  0.25\n   0.25  0.25 -0.25 -0.25]\n [ 0.25 -0.25 -0.25  0.25 -0.25  0.25  0.25 -0.25 -0.25  0.25  0.25 -0.25\n   0.25 -0.25 -0.25  0.25]]\n",
          "output_type": "stream"
        }
      ],
      "id": "543124b4-e752-42da-a46a-ba08abba6fe1"
    },
    {
      "cell_type": "markdown",
      "source": "By multiplying the H matrix by its transpose, we will calculate all the inner products:",
      "metadata": {},
      "id": "82cbbf7d-2f4a-4b03-8101-96ddcd85d980"
    },
    {
      "cell_type": "code",
      "source": "H@H.T",
      "metadata": {
        "trusted": true
      },
      "execution_count": 10,
      "outputs": [
        {
          "execution_count": 10,
          "output_type": "execute_result",
          "data": {
            "text/plain": "array([[1., 0., 0., 0., 0., 0., 0., 0., 0., 0., 0., 0., 0., 0., 0., 0.],\n       [0., 1., 0., 0., 0., 0., 0., 0., 0., 0., 0., 0., 0., 0., 0., 0.],\n       [0., 0., 1., 0., 0., 0., 0., 0., 0., 0., 0., 0., 0., 0., 0., 0.],\n       [0., 0., 0., 1., 0., 0., 0., 0., 0., 0., 0., 0., 0., 0., 0., 0.],\n       [0., 0., 0., 0., 1., 0., 0., 0., 0., 0., 0., 0., 0., 0., 0., 0.],\n       [0., 0., 0., 0., 0., 1., 0., 0., 0., 0., 0., 0., 0., 0., 0., 0.],\n       [0., 0., 0., 0., 0., 0., 1., 0., 0., 0., 0., 0., 0., 0., 0., 0.],\n       [0., 0., 0., 0., 0., 0., 0., 1., 0., 0., 0., 0., 0., 0., 0., 0.],\n       [0., 0., 0., 0., 0., 0., 0., 0., 1., 0., 0., 0., 0., 0., 0., 0.],\n       [0., 0., 0., 0., 0., 0., 0., 0., 0., 1., 0., 0., 0., 0., 0., 0.],\n       [0., 0., 0., 0., 0., 0., 0., 0., 0., 0., 1., 0., 0., 0., 0., 0.],\n       [0., 0., 0., 0., 0., 0., 0., 0., 0., 0., 0., 1., 0., 0., 0., 0.],\n       [0., 0., 0., 0., 0., 0., 0., 0., 0., 0., 0., 0., 1., 0., 0., 0.],\n       [0., 0., 0., 0., 0., 0., 0., 0., 0., 0., 0., 0., 0., 1., 0., 0.],\n       [0., 0., 0., 0., 0., 0., 0., 0., 0., 0., 0., 0., 0., 0., 1., 0.],\n       [0., 0., 0., 0., 0., 0., 0., 0., 0., 0., 0., 0., 0., 0., 0., 1.]])"
          },
          "metadata": {}
        }
      ],
      "id": "6c6b4a64-4efb-415c-b812-db885a244889"
    },
    {
      "cell_type": "markdown",
      "source": "Find the coefficients that represent the sinusoid. We need to take the inner (dot) product of f with each row of H. This is easily implemented through matrix multiplication:",
      "metadata": {},
      "id": "55132dea-e818-4597-bf4b-3b31407ff701"
    },
    {
      "cell_type": "code",
      "source": "g_rep=g@H.T\ng_rep",
      "metadata": {
        "trusted": true
      },
      "execution_count": 11,
      "outputs": [
        {
          "execution_count": 11,
          "output_type": "execute_result",
          "data": {
            "text/plain": "array([-8.89879156e-17,  6.12323400e-17,  1.72254642e-16,  1.33056689e-16,\n        3.11032520e-16,  1.05301114e-16, -1.72254642e-16, -1.88567841e-16,\n        2.51366975e+00,  9.94561837e-02,  2.07106781e-01, -2.07106781e-01,\n        5.00000000e-01, -5.00000000e-01, -1.04119610e+00, -4.11961001e-02])"
          },
          "metadata": {}
        }
      ],
      "id": "008ed5aa-6bd5-43ad-a6c8-624d436429e1"
    },
    {
      "cell_type": "markdown",
      "source": "The following function generates an interactive plot. You can use the slider to adjust the number of orthonormal functions that will be used in approximating the function g:",
      "metadata": {},
      "id": "5266ea81-6850-454d-bf10-1d10bfaf2729"
    },
    {
      "cell_type": "code",
      "source": "def plot_approximate(g):\n    '''\n    Plot the approximate representation of a vector g using the rows of the Hadamard matrix \n    as a basis.  This function provides a slider that will allow the user to select how many\n    rows are used, where the rows that have the largest magnitude coefficients will be used.\n    \n    John M. Shea\n    1/10/2022\n    '''\n    \n    # Some of the followin lines are duplicates from above; they make this function self-contained\n    N=len(g)\n    \n    # Make sure that N is a power of 2:\n    assert ((N & (N-1) == 0) and N != 0), \"The length of vector g must be a power of 2\"\n    \n    H=1/np.sqrt(N)*hadamard(N)[:]\n    g_rep=g@H.T\n\n\n    # Get the locations of the coefficients in order of magnitude\n    importance=np.argsort(np.abs(g_rep))\n    \n    \n    \n    def plot_importance(num_coefficients):\n        \n        N=len(g)\n        truncated_importance = importance[ (N - num_coefficients) : ]\n        g_hat = g_rep[truncated_importance] @ H[truncated_importance]\n        plt.xlabel('t')\n        plt.plot(t, g, label=f'$g(x)$')\n        plt.plot(t, g_hat, linestyle=':', label=f'$\\hat{{g}}(x)$', linewidth=3, alpha=0.5)\n\n        signal_energy = np.linalg.norm(g)**2\n        error_energy = np.linalg.norm(g-g_hat)**2\n        plt.title(f\"% Error = {100*error_energy/signal_energy:.3g}\")\n        plt.legend()\n        plt.show()\n        \n    interact(plot_importance, num_coefficients=widgets.IntSlider(min=1, max=N, step=1, value=1,\n                                                                 description='# components',\n                                                                 style={'description_width':'initial'}) ) \n\n    ",
      "metadata": {
        "trusted": true
      },
      "execution_count": 12,
      "outputs": [],
      "id": "77f85e44-135e-458f-a11b-c88eaaefb0ab"
    },
    {
      "cell_type": "markdown",
      "source": "I am repeating the definition of the function g() here. You can edit the first line in the cell below to try different functions, as required in the assignment.",
      "metadata": {},
      "id": "c7107d8b-706f-4243-b758-56c8b75414ec"
    },
    {
      "cell_type": "code",
      "source": "g=np.sin(2*np.pi*t)  # Edit this line to try different functions\n\nplot_approximate(g)",
      "metadata": {
        "trusted": true
      },
      "execution_count": 13,
      "outputs": [
        {
          "output_type": "display_data",
          "data": {
            "text/plain": "interactive(children=(IntSlider(value=1, description='# components', max=16, min=1, style=SliderStyle(descript…",
            "application/vnd.jupyter.widget-view+json": {
              "version_major": 2,
              "version_minor": 0,
              "model_id": "83c5ae19fc33432a8c68ffe2041712f8"
            }
          },
          "metadata": {}
        },
        {
          "output_type": "display_data",
          "data": {
            "text/plain": "<Figure size 432x288 with 0 Axes>"
          },
          "metadata": {}
        }
      ],
      "id": "322326e5-6346-403b-8f06-f7ede769d513"
    },
    {
      "cell_type": "markdown",
      "source": "What do you observe?",
      "metadata": {},
      "id": "a5c6048e-220a-486d-aa8d-e3d6ef1ad81d"
    },
    {
      "cell_type": "markdown",
      "source": "## Assignment\n\n\nRecord and submit your answers to the following:\n\nFor each of the following waveforms, how many coefficients are needed to achieve 1% error? 0.1% error? and 0.01% error?\n\n1) sin at 1 Hz\n2) sin at 2 Hz\n3) sin at 0.5 Hz\n4) cos at 1 Hz\n5) exp(t)\n6) exp (-t)\n7) log (t)\n\nYou may submit a Jupyter notebook, a text document, or you can handwrite your answers and scan to a PDF.\n\nIf you are recording your answers in the JupyterLite notebook, then be sure to use File->Download to get the notebook with your changes. \n\n(When you make changes to the JupyterLite notebook, they are stored on your local machine using HTML5 Local Storage. These changes do not affect anything in GitHub.)",
      "metadata": {},
      "id": "5db99517-145a-4148-84f3-4d851800c866"
    }
  ]
}