{
  "metadata": {
    "language_info": {
      "codemirror_mode": {
        "name": "python",
        "version": 3
      },
      "file_extension": ".py",
      "mimetype": "text/x-python",
      "name": "python",
      "nbconvert_exporter": "python",
      "pygments_lexer": "ipython3",
      "version": "3.8"
    },
    "kernelspec": {
      "name": "python",
      "display_name": "Pyolite",
      "language": "python"
    }
  },
  "nbformat_minor": 4,
  "nbformat": 4,
  "cells": [
    {
      "cell_type": "code",
      "source": "import micropip\n\nawait micropip.install('ipywidgets')",
      "metadata": {
        "tags": [],
        "trusted": true
      },
      "execution_count": 1,
      "outputs": []
    },
    {
      "cell_type": "markdown",
      "source": "Trying to implement the code from https://youtu.be/SN0Bflf14C4 , a tutorial about how to use widgets to have sliders, etc. in Jupyter Notebooks on GitHub.\n\nI added the cell above but the rest is copied from https://github.com/markjay4k/fourier-transform, widgets_example.ipynb.\n\nLooks to me like it doesn't recognize nbagg.\n\nIf I swap that for %matplotlib inline, more of it works, but it doesn't seem to recognize widgets.interactive(update_plot, amp=amp, phase=phase, freq=freq) \n\nI actually have no idea what I'm doing.",
      "metadata": {}
    },
    {
      "cell_type": "code",
      "source": "%matplotlib inline",
      "metadata": {
        "trusted": true
      },
      "execution_count": 2,
      "outputs": []
    },
    {
      "cell_type": "code",
      "source": "from IPython.display import display\nimport ipywidgets as widgets\nimport matplotlib.pyplot as plt\nimport numpy as np",
      "metadata": {
        "trusted": true
      },
      "execution_count": 3,
      "outputs": []
    },
    {
      "cell_type": "code",
      "source": "x = np.linspace(0, 2, 1000)\nfig, ax = plt.subplots(1, figsize=(10, 4))\nplt.suptitle('Sine Wave')\n\n\ndef update_plot(amp, phase, freq):\n    \n    ax.clear()\n    y = amp * np.sin(freq * 2 * np.pi * x + phase * 2 * np.pi)\n    units = 'amp = {} $(psi)$ \\nphase = {} $(s)$ \\nfreq = {} $(Hz)$'\n    \n    ax.plot(x, y, label=units.format(amp, phase, freq))\n    ax.set_xlim(x[0], x[-1])\n    ax.legend(loc=1)\n    ax.set_xlabel('$(s)$')\n    plt.show()\n\n\namp = widgets.FloatSlider(min=1, max=10, value=1, description='Amp:')\nphase = widgets.FloatSlider(min=0, max=5, value=0, description='Phase:')\nfreq = widgets.FloatSlider(min=1, max=10, value=1, description='Freq:')\n    \nwidgets.interactive(update_plot, amp=amp, phase=phase, freq=freq)",
      "metadata": {
        "trusted": true
      },
      "execution_count": 6,
      "outputs": [
        {
          "output_type": "display_data",
          "data": {
            "text/plain": "interactive(children=(FloatSlider(value=1.0, description='Amp:', max=10.0, min=1.0), FloatSlider(value=0.0, de…",
            "application/vnd.jupyter.widget-view+json": {
              "version_major": 2,
              "version_minor": 0,
              "model_id": "5530b864cf8b406388fb08d6c47d698c"
            }
          },
          "metadata": {}
        },
        {
          "execution_count": 6,
          "output_type": "execute_result",
          "data": {},
          "metadata": {}
        },
        {
          "output_type": "display_data",
          "data": {
            "text/plain": "<Figure size 432x288 with 0 Axes>"
          },
          "metadata": {}
        },
        {
          "output_type": "display_data",
          "data": {
            "text/plain": "<Figure size 720x288 with 0 Axes>"
          },
          "metadata": {}
        }
      ]
    },
    {
      "cell_type": "code",
      "source": "",
      "metadata": {},
      "execution_count": null,
      "outputs": []
    },
    {
      "cell_type": "code",
      "source": "",
      "metadata": {},
      "execution_count": null,
      "outputs": []
    }
  ]
}