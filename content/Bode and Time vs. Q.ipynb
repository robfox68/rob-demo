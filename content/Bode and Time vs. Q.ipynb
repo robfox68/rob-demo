{
  "metadata": {
    "language_info": {
      "codemirror_mode": {
        "name": "python",
        "version": 3
      },
      "file_extension": ".py",
      "mimetype": "text/x-python",
      "name": "python",
      "nbconvert_exporter": "python",
      "pygments_lexer": "ipython3",
      "version": "3.8"
    },
    "kernelspec": {
      "name": "python",
      "display_name": "Pyolite",
      "language": "python"
    }
  },
  "nbformat_minor": 4,
  "nbformat": 4,
  "cells": [
    {
      "cell_type": "code",
      "source": "import micropip\n\nawait micropip.install('ipywidgets')",
      "metadata": {
        "tags": [],
        "trusted": true
      },
      "execution_count": 1,
      "outputs": []
    },
    {
      "cell_type": "code",
      "source": "await micropip.install('ipympl')\n",
      "metadata": {
        "tags": [],
        "trusted": true
      },
      "execution_count": 26,
      "outputs": []
    },
    {
      "cell_type": "code",
      "source": "from IPython.display import display\nimport ipywidgets as widgets\nimport matplotlib.pyplot as plt\nimport numpy as np",
      "metadata": {
        "trusted": true
      },
      "execution_count": 27,
      "outputs": []
    },
    {
      "cell_type": "code",
      "source": "%matplotlib ipympl",
      "metadata": {
        "trusted": true
      },
      "execution_count": 28,
      "outputs": []
    },
    {
      "cell_type": "code",
      "source": "w = np.logspace(-2, 2, 200)\nt = np.linspace(0, 8*np.pi, 200)\nth = np.arange(0, np.pi, 0.02)\ncx=np.cos(th)\ncy1=np.sin(th)\ncy2=-cy1",
      "metadata": {
        "tags": [],
        "trusted": true
      },
      "execution_count": 29,
      "outputs": []
    },
    {
      "cell_type": "code",
      "source": "plt.ioff()\nfig, ((ax0,ax2),(ax1,ax3)) = plt.subplots(2, 2, sharex=False, figsize=(12.4, 5.1))\n\nplt.suptitle('Second-Order Low-Pass')\n\ndef update_plot(Q):\n    \n    ax0.clear()\n    ax1.clear()  #Skip this statement to stack plots with different Q's. Rerun the cell to refresh.\n    ax2.clear()  #Skip this statement to stack plots with different Q's. Rerun the cell to refresh.\n    ax3.clear()  #Skip this statement to stack plots with different Q's. Rerun the cell to refresh.\n    re = 1 - w**2\n    im = w/Q\n    phase = -np.arctan2(im,re)*180/np.pi\n    mag = 1/np.sqrt(im*im + re*re)\n    \n    if Q < 0.5:\n        x1 = -1/(2*Q) + np.sqrt(1/4/Q/Q -1); y1 = 0\n        x2 = -1/(2*Q) - np.sqrt(1/4/Q/Q -1); y2 = 0\n        y = 1-(x2*np.exp(x1*t) - x1*np.exp(x2*t))/(x2-x1)     \n        \n    elif Q > 0.5:\n        x1 = -1/(2*Q);  y1 = + np.sqrt(1-1/4/Q/Q); \n        x2 = x1;  y2 = -y1;\n        y = 1 - (np.exp(x1*t) * np.sin(y1*t + np.arccos(-x1))/y1)\n          \n    #pole locations\n    ax0.plot(x1,y1,marker = 'x',color='r')   #pole 1 location\n    ax0.plot(x2,y2,marker = 'x',color='r')   #pole 2 location \n    #Circle with radius one:\n    ax0.plot(cx,cy1,'b',linewidth=0.5)\n    ax0.plot(cx,cy2,'b',linewidth=0.5)\n    ax0.axvline(0,linewidth=0.7, color='grey')\n    ax0.axhline(0,linewidth=0.7, color='grey')\n    ax0.set_xlim(-5,+1)\n    ax0.set_ylim(-1.2,+1.2)\n    ax0.plot\n    #ax0.grid(True)\n    \n    #Step response\n    ax1.plot(t, y)\n    ax1.set_xlabel('Time (s)')\n    ax1.grid(True)\n                  \n    #Magnitude plot   \n    ax2.loglog(w,mag)\n    ax2.set_ylabel('Magnitude')\n    ax2.grid(True)\n    \n    #Phase plot\n    ax3.semilogx(w, phase)  \n    ax3.set_ylim(-200, 0)            \n    ax3.set_yticks([-180,-135,-90,-45,0])\n    ax3.set_yticklabels(['-180','-135','-90','-45','0' ])\n    ax3.set_xlabel('Frequency (r/s)')\n    ax3.set_ylabel('Phase (degrees)')\n    ax3.grid(True)\n    \n    fig.canvas.toolbar_visible=False   \n    fig.show()\n\nQ = widgets.FloatLogSlider(\n   value=1.1,\n   base=10,\n   min=-1.25, # max exponent of base\n   max=+1.0, # min exponent of base\n   step=0.125, # exponent step\n   description='Q')\n    \nwidgets.interactive(update_plot, Q = Q)",
      "metadata": {
        "tags": [],
        "trusted": true
      },
      "execution_count": 32,
      "outputs": [
        {
          "output_type": "display_data",
          "data": {
            "text/plain": "interactive(children=(FloatLogSlider(value=1.1, description='Q', max=1.0, min=-1.25, step=0.125), Output()), _…",
            "application/vnd.jupyter.widget-view+json": {
              "version_major": 2,
              "version_minor": 0,
              "model_id": "d555d6b59db047ca985eb36be79f8d85"
            }
          },
          "metadata": {}
        },
        {
          "execution_count": 32,
          "output_type": "execute_result",
          "data": {},
          "metadata": {}
        }
      ]
    },
    {
      "cell_type": "code",
      "source": "",
      "metadata": {},
      "execution_count": null,
      "outputs": []
    },
    {
      "cell_type": "code",
      "source": "",
      "metadata": {},
      "execution_count": null,
      "outputs": []
    }
  ]
}